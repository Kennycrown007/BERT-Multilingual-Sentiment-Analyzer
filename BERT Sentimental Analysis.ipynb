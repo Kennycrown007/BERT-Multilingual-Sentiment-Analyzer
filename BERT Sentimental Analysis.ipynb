{
 "cells": [
  {
   "cell_type": "markdown",
   "id": "cb88ae2f-e5ae-46a4-8b4c-89b90fa6250a",
   "metadata": {},
   "source": [
    "# Instantiate Model and Load Libraries"
   ]
  },
  {
   "cell_type": "code",
   "execution_count": 1,
   "id": "ce2af776-8e28-4c80-b362-abd4f3bab3a8",
   "metadata": {},
   "outputs": [],
   "source": [
    "from transformers import AutoTokenizer, AutoModelForSequenceClassification\n",
    "import torch"
   ]
  },
  {
   "cell_type": "code",
   "execution_count": 2,
   "id": "2433960e-f282-49d0-ba9e-26d956f00d4a",
   "metadata": {},
   "outputs": [],
   "source": [
    "tokenizer = AutoTokenizer.from_pretrained('nlptown/bert-base-multilingual-uncased-sentiment')\n",
    "\n",
    "model = AutoModelForSequenceClassification.from_pretrained('nlptown/bert-base-multilingual-uncased-sentiment')"
   ]
  },
  {
   "cell_type": "code",
   "execution_count": 3,
   "id": "15a5f93b-4f3a-45fb-aa7d-cd78d1052884",
   "metadata": {},
   "outputs": [],
   "source": [
    "import pandas as pd\n",
    "import numpy as np"
   ]
  },
  {
   "cell_type": "markdown",
   "id": "7b69f281-e544-48e9-b48b-68c6c64ffa60",
   "metadata": {},
   "source": [
    "# Load Data"
   ]
  },
  {
   "cell_type": "code",
   "execution_count": 4,
   "id": "717a617d-6994-4fb6-8945-f289f1bd5c51",
   "metadata": {},
   "outputs": [
    {
     "name": "stdout",
     "output_type": "stream",
     "text": [
      "                      Participant  \\\n",
      "0     Mr. Michael (One Acre Farm)   \n",
      "1        Dr. Isaac (Asawana Farm)   \n",
      "2      Ms. Marcey (Chirandu Farm)   \n",
      "3  Ms. Ilene (House in the Woods)   \n",
      "4       Ms. Carrol (Spring Farms)   \n",
      "\n",
      "                                            Thoughts  \\\n",
      "0  So as currently, the only technology...I use i...   \n",
      "1  I know about drones but I haven't used one...m...   \n",
      "2  Not very much...We’ve only been farming for tw...   \n",
      "3  No drones or irrigation tech...just Bluetooth ...   \n",
      "4  Anti-technology...only use tech for Facebook, ...   \n",
      "\n",
      "                                     Technology Used  \\\n",
      "0        Soil moisture meters with app connectivity.   \n",
      "1       Tiller, fertigation system, drip irrigation.   \n",
      "2          Timed watering system (irrigation timer).   \n",
      "3  Manual drip irrigation, planting by hand, Blue...   \n",
      "4  Photo documentation, Facebook, deep trenching ...   \n",
      "\n",
      "                                            Benefits  \\\n",
      "0  Saving water...I don’t water as much...my pond...   \n",
      "1  Helpful in time management...plants are watere...   \n",
      "2  Saving time...can water overnight...reduces la...   \n",
      "3  More labor...benefit is educational...hands-on...   \n",
      "4  Trenching captures rainwater...prevents erosio...   \n",
      "\n",
      "                                         Ease of use  \\\n",
      "0  This is a big pain in the ass...system doesn’t...   \n",
      "1  Very simple and straightforward...just install...   \n",
      "2                                     Fairly simple.   \n",
      "3  Manual labor...tractor for bed shaping...no au...   \n",
      "4  Difficult initially...manual shoveling...would...   \n",
      "\n",
      "                                       Consideration  \\\n",
      "0  Used drone with thermal camera to find deer......   \n",
      "1  I would prefer to monitor farms by myself...ma...   \n",
      "2  Heard about it...haven’t seen it in action...m...   \n",
      "3  Husband designed bed shaper...wouldn’t use dro...   \n",
      "4  Thought about baby monitor or barn camera...pr...   \n",
      "\n",
      "                                       Support needs  \\\n",
      "0  If it costs over $5,000...I would be hesitant....   \n",
      "1  Initial cost and maintenance support...USDA gr...   \n",
      "2  Yes, would appreciate support...part-time farm...   \n",
      "3  Not interested in high-tech...prefer tactile, ...   \n",
      "4  Solar energy interest...needs financial help.....   \n",
      "\n",
      "                                            Training  \\\n",
      "0  If it's virtual, yes...If it's in person, prob...   \n",
      "1              Yes, if it’s nearby and not too long.   \n",
      "2                         Yes...Online or in-person.   \n",
      "3  Not interested...we’ve done it this way for 25...   \n",
      "4                 Yes...loves learning and training.   \n",
      "\n",
      "                                    Wellbeing Impact  \\\n",
      "0  That’s not an issue for me...on a larger scale...   \n",
      "1  Yes...anything that reduces time under the sun...   \n",
      "2  Most definitely...reduces time and labor...wel...   \n",
      "3  No...manual connection with soil improves well...   \n",
      "4  Yes...monitoring animals, managing larger scal...   \n",
      "\n",
      "                                    Future with tech  \\\n",
      "0  For my scale, I don’t think...tech is going to...   \n",
      "1  Tech will help...but affordability is key...co...   \n",
      "2  Yes...would be beneficial, especially for labo...   \n",
      "3  Tech can be profitable, but not our goal...som...   \n",
      "4  Conflicted...older ways feel better...new tech...   \n",
      "\n",
      "                                          Farm Size  \\\n",
      "0                    Seven acres under cultivation.   \n",
      "1                                     Half an acre.   \n",
      "2         25 acres total...using 4 acres currently.   \n",
      "3                                  Under two acres.   \n",
      "4  7 acres...previously leased 50 acres for cattle.   \n",
      "\n",
      "                                  Family Involvement  \\\n",
      "0  My kids...I don’t see them getting into farmin...   \n",
      "1  Children not interested...but others can learn...   \n",
      "2  Nieces help in summer...want to grow the farm ...   \n",
      "3  No succession plan...children not interested.....   \n",
      "4  Kids uninterested...might form nonprofit to co...   \n",
      "\n",
      "                                         Association  \\\n",
      "0  Montgomery County email list serve...twice a y...   \n",
      "1  Facebook groups...small farm conferences...Afr...   \n",
      "2  Montgomery County Ag office...online info shar...   \n",
      "3          Volunteer-based...education-focused farm.   \n",
      "4  120-member CSA...not open to public...close re...   \n",
      "\n",
      "                                Additional Thoughts   \n",
      "0  General problems...access to land and labor......  \n",
      "1  Organic crops for African market...climate aff...  \n",
      "2  Would love to farm full-time...organic focus.....  \n",
      "3  Working in harmony with nature...manual system...  \n",
      "4  Farming is a passion...nature’s harmony...blac...  \n"
     ]
    }
   ],
   "source": [
    "df = pd.read_excel('Interview Data.xlsx')\n",
    "print(df.head())"
   ]
  },
  {
   "cell_type": "markdown",
   "id": "696a486e-08f7-4966-9b65-d221daf978e5",
   "metadata": {},
   "source": [
    "# Encode and Calculate Sentiment"
   ]
  },
  {
   "cell_type": "code",
   "execution_count": 5,
   "id": "a7e718b9-b7eb-453d-b00b-b9e34b83e278",
   "metadata": {},
   "outputs": [],
   "source": [
    "def sentiment_score(text):\n",
    "    tokens = tokenizer.encode(text, return_tensors='pt', truncation=True)\n",
    "    result = model(tokens)\n",
    "    return int(torch.argmax(result.logits))+1"
   ]
  },
  {
   "cell_type": "code",
   "execution_count": 6,
   "id": "267381ac-c386-4eeb-9b2b-199a85a3c8cb",
   "metadata": {},
   "outputs": [],
   "source": [
    "output_df = df[['Participant']].copy()"
   ]
  },
  {
   "cell_type": "code",
   "execution_count": 7,
   "id": "42eff2a2-1b3f-42cf-83b9-28b74affbdf9",
   "metadata": {},
   "outputs": [],
   "source": [
    "for column in df.columns[1:]:\n",
    "    output_df[column] = df[column]\n",
    "    output_df[f\"{column}_Sentiment\"] = df[column].apply(lambda x: sentiment_score(x))"
   ]
  },
  {
   "cell_type": "code",
   "execution_count": 8,
   "id": "5259e44e-8142-4178-b3ce-ee1c49376928",
   "metadata": {},
   "outputs": [
    {
     "name": "stdout",
     "output_type": "stream",
     "text": [
      "                      Participant  \\\n",
      "0     Mr. Michael (One Acre Farm)   \n",
      "1        Dr. Isaac (Asawana Farm)   \n",
      "2      Ms. Marcey (Chirandu Farm)   \n",
      "3  Ms. Ilene (House in the Woods)   \n",
      "4       Ms. Carrol (Spring Farms)   \n",
      "\n",
      "                                            Thoughts  Thoughts_Sentiment  \\\n",
      "0  So as currently, the only technology...I use i...                   3   \n",
      "1  I know about drones but I haven't used one...m...                   3   \n",
      "2  Not very much...We’ve only been farming for tw...                   2   \n",
      "3  No drones or irrigation tech...just Bluetooth ...                   1   \n",
      "4  Anti-technology...only use tech for Facebook, ...                   1   \n",
      "\n",
      "                                     Technology Used  \\\n",
      "0        Soil moisture meters with app connectivity.   \n",
      "1       Tiller, fertigation system, drip irrigation.   \n",
      "2          Timed watering system (irrigation timer).   \n",
      "3  Manual drip irrigation, planting by hand, Blue...   \n",
      "4  Photo documentation, Facebook, deep trenching ...   \n",
      "\n",
      "   Technology Used_Sentiment  \\\n",
      "0                          5   \n",
      "1                          5   \n",
      "2                          5   \n",
      "3                          5   \n",
      "4                          2   \n",
      "\n",
      "                                            Benefits  Benefits_Sentiment  \\\n",
      "0  Saving water...I don’t water as much...my pond...                   3   \n",
      "1  Helpful in time management...plants are watere...                   5   \n",
      "2  Saving time...can water overnight...reduces la...                   5   \n",
      "3  More labor...benefit is educational...hands-on...                   4   \n",
      "4  Trenching captures rainwater...prevents erosio...                   4   \n",
      "\n",
      "                                         Ease of use  Ease of use_Sentiment  \\\n",
      "0  This is a big pain in the ass...system doesn’t...                      2   \n",
      "1  Very simple and straightforward...just install...                      5   \n",
      "2                                     Fairly simple.                      3   \n",
      "3  Manual labor...tractor for bed shaping...no au...                      3   \n",
      "4  Difficult initially...manual shoveling...would...                      2   \n",
      "\n",
      "                                       Consideration  ...  \\\n",
      "0  Used drone with thermal camera to find deer......  ...   \n",
      "1  I would prefer to monitor farms by myself...ma...  ...   \n",
      "2  Heard about it...haven’t seen it in action...m...  ...   \n",
      "3  Husband designed bed shaper...wouldn’t use dro...  ...   \n",
      "4  Thought about baby monitor or barn camera...pr...  ...   \n",
      "\n",
      "                                    Future with tech  \\\n",
      "0  For my scale, I don’t think...tech is going to...   \n",
      "1  Tech will help...but affordability is key...co...   \n",
      "2  Yes...would be beneficial, especially for labo...   \n",
      "3  Tech can be profitable, but not our goal...som...   \n",
      "4  Conflicted...older ways feel better...new tech...   \n",
      "\n",
      "  Future with tech_Sentiment  \\\n",
      "0                          3   \n",
      "1                          3   \n",
      "2                          3   \n",
      "3                          3   \n",
      "4                          2   \n",
      "\n",
      "                                          Farm Size Farm Size_Sentiment  \\\n",
      "0                    Seven acres under cultivation.                   5   \n",
      "1                                     Half an acre.                   2   \n",
      "2         25 acres total...using 4 acres currently.                   4   \n",
      "3                                  Under two acres.                   2   \n",
      "4  7 acres...previously leased 50 acres for cattle.                   3   \n",
      "\n",
      "                                  Family Involvement  \\\n",
      "0  My kids...I don’t see them getting into farmin...   \n",
      "1  Children not interested...but others can learn...   \n",
      "2  Nieces help in summer...want to grow the farm ...   \n",
      "3  No succession plan...children not interested.....   \n",
      "4  Kids uninterested...might form nonprofit to co...   \n",
      "\n",
      "  Family Involvement_Sentiment  \\\n",
      "0                            1   \n",
      "1                            3   \n",
      "2                            4   \n",
      "3                            1   \n",
      "4                            1   \n",
      "\n",
      "                                         Association Association_Sentiment  \\\n",
      "0  Montgomery County email list serve...twice a y...                     5   \n",
      "1  Facebook groups...small farm conferences...Afr...                     4   \n",
      "2  Montgomery County Ag office...online info shar...                     4   \n",
      "3          Volunteer-based...education-focused farm.                     4   \n",
      "4  120-member CSA...not open to public...close re...                     2   \n",
      "\n",
      "                                Additional Thoughts   \\\n",
      "0  General problems...access to land and labor......   \n",
      "1  Organic crops for African market...climate aff...   \n",
      "2  Would love to farm full-time...organic focus.....   \n",
      "3  Working in harmony with nature...manual system...   \n",
      "4  Farming is a passion...nature’s harmony...blac...   \n",
      "\n",
      "  Additional Thoughts _Sentiment  \n",
      "0                              1  \n",
      "1                              4  \n",
      "2                              2  \n",
      "3                              5  \n",
      "4                              5  \n",
      "\n",
      "[5 rows x 27 columns]\n"
     ]
    }
   ],
   "source": [
    "print(output_df.head())"
   ]
  },
  {
   "cell_type": "code",
   "execution_count": 9,
   "id": "4db30076-dfc4-435a-9f43-aaed34555f11",
   "metadata": {},
   "outputs": [],
   "source": [
    "#output_path = \"C:/Users/HP/Downloads/New folder/Tokenizer_Sentiment_Analysis_Score.xlsx\"\n",
    "#output_df.to_excel(output_path, index=False)"
   ]
  }
 ],
 "metadata": {
  "kernelspec": {
   "display_name": "Python 3 (ipykernel)",
   "language": "python",
   "name": "python3"
  },
  "language_info": {
   "codemirror_mode": {
    "name": "ipython",
    "version": 3
   },
   "file_extension": ".py",
   "mimetype": "text/x-python",
   "name": "python",
   "nbconvert_exporter": "python",
   "pygments_lexer": "ipython3",
   "version": "3.12.7"
  }
 },
 "nbformat": 4,
 "nbformat_minor": 5
}
